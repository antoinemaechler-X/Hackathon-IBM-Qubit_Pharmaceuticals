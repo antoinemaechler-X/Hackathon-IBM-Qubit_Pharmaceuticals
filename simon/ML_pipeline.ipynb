{
 "cells": [
  {
   "cell_type": "code",
   "execution_count": 1,
   "metadata": {},
   "outputs": [],
   "source": [
    "import pandas as pd\n",
    "import numpy as np\n",
    "from sklearn.model_selection import train_test_split\n",
    "from xgboost import XGBClassifier, XGBRegressor\n",
    "from sklearn.metrics import accuracy_score, mean_squared_error\n",
    "from sklearn.model_selection import cross_val_score, KFold\n",
    "from sklearn.ensemble import RandomForestClassifier\n",
    "from sklearn.preprocessing import StandardScaler\n",
    "import matplotlib.pyplot as plt\n",
    "import optuna"
   ]
  },
  {
   "cell_type": "markdown",
   "metadata": {},
   "source": [
    "# Data preprocessing"
   ]
  },
  {
   "cell_type": "code",
   "execution_count": 2,
   "metadata": {},
   "outputs": [
    {
     "name": "stdout",
     "output_type": "stream",
     "text": [
      "<class 'pandas.core.frame.DataFrame'>\n",
      "RangeIndex: 9415 entries, 0 to 9414\n",
      "Columns: 4297 entries, smiles to class\n",
      "dtypes: float64(4295), int64(1), object(1)\n",
      "memory usage: 308.7+ MB\n"
     ]
    },
    {
     "data": {
      "text/plain": [
       "(None,\n",
       "                                     smiles  BalabanJ     BertzCT       Chi0  \\\n",
       " 0    Brc1cc(Br)c(Oc2cc(Br)c(Br)cc2Br)cc1Br  2.415403  585.102114  14.154336   \n",
       " 1      Brc1ccc2[nH]c3c(c2c1)CCCC3Nc1ccccc1  1.756595  776.517592  14.233840   \n",
       " 2  Brc1ccc2c(NC3=NCC4(CN5CCC4CC5)O3)ncnn12  1.393870  796.361052  15.440947   \n",
       " 3           Brc1cnc2nc(N3CCN4CCC3CC4)oc2c1  1.724265  605.709066  12.819626   \n",
       " 4        Brc1cncc(COCC2(c3ccccc3)CCNCC2)c1  1.684628  597.045968  15.252866   \n",
       " \n",
       "        Chi0n      Chi0v       Chi1     Chi1n     Chi1v     Chi2n  ...  \\\n",
       " 0   8.985436  18.501415   8.879918  4.851543  9.609532  3.495540  ...   \n",
       " 1  11.695437  13.281434  10.309663  7.426852  8.219850  5.662312  ...   \n",
       " 2  12.574323  14.160319  11.233913  7.945929  8.738927  6.525386  ...   \n",
       " 3  10.549759  12.135755   9.292826  6.705489  7.498487  5.237927  ...   \n",
       " 4  12.594869  14.180866  10.784424  7.719435  8.512433  5.900562  ...   \n",
       " \n",
       "    fcfc_2039  fcfc_2040  fcfc_2041  fcfc_2042  fcfc_2043  fcfc_2044  \\\n",
       " 0        0.0        0.0        0.0        0.0        0.0        0.0   \n",
       " 1        0.0        0.0        0.0        0.0        0.0        0.0   \n",
       " 2        0.0        0.0        0.0        0.0        0.0        0.0   \n",
       " 3        1.0        0.0        0.0        0.0        0.0        0.0   \n",
       " 4        2.0        0.0        0.0        0.0        0.0        0.0   \n",
       " \n",
       "    fcfc_2045  fcfc_2046  fcfc_2047  class  \n",
       " 0        0.0        0.0        0.0      0  \n",
       " 1        0.0        0.0        0.0      0  \n",
       " 2        0.0        0.0        0.0      1  \n",
       " 3        0.0        0.0        0.0      1  \n",
       " 4        0.0        0.0        0.0      0  \n",
       " \n",
       " [5 rows x 4297 columns])"
      ]
     },
     "execution_count": 2,
     "metadata": {},
     "output_type": "execute_result"
    }
   ],
   "source": [
    "# Charger le fichier\n",
    "# file_path = \"Augmented_df.csv\"\n",
    "# df = pd.read_csv(file_path, index_col=0)\n",
    "\n",
    "file_path = \"train.csv\"\n",
    "df = pd.read_csv(file_path)\n",
    "\n",
    "# Afficher les premières lignes et les informations générales\n",
    "df_info = df.info()\n",
    "df_head = df.head()\n",
    "\n",
    "df_info, df_head"
   ]
  },
  {
   "cell_type": "code",
   "execution_count": 3,
   "metadata": {},
   "outputs": [
    {
     "data": {
      "text/plain": [
       "class\n",
       "1    4816\n",
       "0    4599\n",
       "Name: count, dtype: int64"
      ]
     },
     "execution_count": 3,
     "metadata": {},
     "output_type": "execute_result"
    }
   ],
   "source": [
    "labels = df[\"class\"]\n",
    "labels.value_counts()"
   ]
  },
  {
   "cell_type": "code",
   "execution_count": 4,
   "metadata": {},
   "outputs": [
    {
     "data": {
      "text/html": [
       "<div>\n",
       "<style scoped>\n",
       "    .dataframe tbody tr th:only-of-type {\n",
       "        vertical-align: middle;\n",
       "    }\n",
       "\n",
       "    .dataframe tbody tr th {\n",
       "        vertical-align: top;\n",
       "    }\n",
       "\n",
       "    .dataframe thead th {\n",
       "        text-align: right;\n",
       "    }\n",
       "</style>\n",
       "<table border=\"1\" class=\"dataframe\">\n",
       "  <thead>\n",
       "    <tr style=\"text-align: right;\">\n",
       "      <th></th>\n",
       "      <th>BalabanJ</th>\n",
       "      <th>BertzCT</th>\n",
       "      <th>Chi0</th>\n",
       "      <th>Chi0n</th>\n",
       "      <th>Chi0v</th>\n",
       "      <th>Chi1</th>\n",
       "      <th>Chi1n</th>\n",
       "      <th>Chi1v</th>\n",
       "      <th>Chi2n</th>\n",
       "      <th>Chi2v</th>\n",
       "      <th>...</th>\n",
       "      <th>fcfc_2038</th>\n",
       "      <th>fcfc_2039</th>\n",
       "      <th>fcfc_2040</th>\n",
       "      <th>fcfc_2041</th>\n",
       "      <th>fcfc_2042</th>\n",
       "      <th>fcfc_2043</th>\n",
       "      <th>fcfc_2044</th>\n",
       "      <th>fcfc_2045</th>\n",
       "      <th>fcfc_2046</th>\n",
       "      <th>fcfc_2047</th>\n",
       "    </tr>\n",
       "  </thead>\n",
       "  <tbody>\n",
       "    <tr>\n",
       "      <th>0</th>\n",
       "      <td>2.415403</td>\n",
       "      <td>585.102114</td>\n",
       "      <td>14.154336</td>\n",
       "      <td>8.985436</td>\n",
       "      <td>18.501415</td>\n",
       "      <td>8.879918</td>\n",
       "      <td>4.851543</td>\n",
       "      <td>9.609532</td>\n",
       "      <td>3.495540</td>\n",
       "      <td>8.621561</td>\n",
       "      <td>...</td>\n",
       "      <td>0.0</td>\n",
       "      <td>0.0</td>\n",
       "      <td>0.0</td>\n",
       "      <td>0.0</td>\n",
       "      <td>0.0</td>\n",
       "      <td>0.0</td>\n",
       "      <td>0.0</td>\n",
       "      <td>0.0</td>\n",
       "      <td>0.0</td>\n",
       "      <td>0.0</td>\n",
       "    </tr>\n",
       "    <tr>\n",
       "      <th>1</th>\n",
       "      <td>1.756595</td>\n",
       "      <td>776.517592</td>\n",
       "      <td>14.233840</td>\n",
       "      <td>11.695437</td>\n",
       "      <td>13.281434</td>\n",
       "      <td>10.309663</td>\n",
       "      <td>7.426852</td>\n",
       "      <td>8.219850</td>\n",
       "      <td>5.662312</td>\n",
       "      <td>6.577987</td>\n",
       "      <td>...</td>\n",
       "      <td>0.0</td>\n",
       "      <td>0.0</td>\n",
       "      <td>0.0</td>\n",
       "      <td>0.0</td>\n",
       "      <td>0.0</td>\n",
       "      <td>0.0</td>\n",
       "      <td>0.0</td>\n",
       "      <td>0.0</td>\n",
       "      <td>0.0</td>\n",
       "      <td>0.0</td>\n",
       "    </tr>\n",
       "    <tr>\n",
       "      <th>2</th>\n",
       "      <td>1.393870</td>\n",
       "      <td>796.361052</td>\n",
       "      <td>15.440947</td>\n",
       "      <td>12.574323</td>\n",
       "      <td>14.160319</td>\n",
       "      <td>11.233913</td>\n",
       "      <td>7.945929</td>\n",
       "      <td>8.738927</td>\n",
       "      <td>6.525386</td>\n",
       "      <td>7.337863</td>\n",
       "      <td>...</td>\n",
       "      <td>0.0</td>\n",
       "      <td>0.0</td>\n",
       "      <td>0.0</td>\n",
       "      <td>0.0</td>\n",
       "      <td>0.0</td>\n",
       "      <td>0.0</td>\n",
       "      <td>0.0</td>\n",
       "      <td>0.0</td>\n",
       "      <td>0.0</td>\n",
       "      <td>0.0</td>\n",
       "    </tr>\n",
       "    <tr>\n",
       "      <th>3</th>\n",
       "      <td>1.724265</td>\n",
       "      <td>605.709066</td>\n",
       "      <td>12.819626</td>\n",
       "      <td>10.549759</td>\n",
       "      <td>12.135755</td>\n",
       "      <td>9.292826</td>\n",
       "      <td>6.705489</td>\n",
       "      <td>7.498487</td>\n",
       "      <td>5.237927</td>\n",
       "      <td>6.153603</td>\n",
       "      <td>...</td>\n",
       "      <td>0.0</td>\n",
       "      <td>1.0</td>\n",
       "      <td>0.0</td>\n",
       "      <td>0.0</td>\n",
       "      <td>0.0</td>\n",
       "      <td>0.0</td>\n",
       "      <td>0.0</td>\n",
       "      <td>0.0</td>\n",
       "      <td>0.0</td>\n",
       "      <td>0.0</td>\n",
       "    </tr>\n",
       "    <tr>\n",
       "      <th>4</th>\n",
       "      <td>1.684628</td>\n",
       "      <td>597.045968</td>\n",
       "      <td>15.252866</td>\n",
       "      <td>12.594869</td>\n",
       "      <td>14.180866</td>\n",
       "      <td>10.784424</td>\n",
       "      <td>7.719435</td>\n",
       "      <td>8.512433</td>\n",
       "      <td>5.900562</td>\n",
       "      <td>6.816237</td>\n",
       "      <td>...</td>\n",
       "      <td>0.0</td>\n",
       "      <td>2.0</td>\n",
       "      <td>0.0</td>\n",
       "      <td>0.0</td>\n",
       "      <td>0.0</td>\n",
       "      <td>0.0</td>\n",
       "      <td>0.0</td>\n",
       "      <td>0.0</td>\n",
       "      <td>0.0</td>\n",
       "      <td>0.0</td>\n",
       "    </tr>\n",
       "  </tbody>\n",
       "</table>\n",
       "<p>5 rows × 4295 columns</p>\n",
       "</div>"
      ],
      "text/plain": [
       "   BalabanJ     BertzCT       Chi0      Chi0n      Chi0v       Chi1     Chi1n  \\\n",
       "0  2.415403  585.102114  14.154336   8.985436  18.501415   8.879918  4.851543   \n",
       "1  1.756595  776.517592  14.233840  11.695437  13.281434  10.309663  7.426852   \n",
       "2  1.393870  796.361052  15.440947  12.574323  14.160319  11.233913  7.945929   \n",
       "3  1.724265  605.709066  12.819626  10.549759  12.135755   9.292826  6.705489   \n",
       "4  1.684628  597.045968  15.252866  12.594869  14.180866  10.784424  7.719435   \n",
       "\n",
       "      Chi1v     Chi2n     Chi2v  ...  fcfc_2038  fcfc_2039  fcfc_2040  \\\n",
       "0  9.609532  3.495540  8.621561  ...        0.0        0.0        0.0   \n",
       "1  8.219850  5.662312  6.577987  ...        0.0        0.0        0.0   \n",
       "2  8.738927  6.525386  7.337863  ...        0.0        0.0        0.0   \n",
       "3  7.498487  5.237927  6.153603  ...        0.0        1.0        0.0   \n",
       "4  8.512433  5.900562  6.816237  ...        0.0        2.0        0.0   \n",
       "\n",
       "   fcfc_2041  fcfc_2042  fcfc_2043  fcfc_2044  fcfc_2045  fcfc_2046  fcfc_2047  \n",
       "0        0.0        0.0        0.0        0.0        0.0        0.0        0.0  \n",
       "1        0.0        0.0        0.0        0.0        0.0        0.0        0.0  \n",
       "2        0.0        0.0        0.0        0.0        0.0        0.0        0.0  \n",
       "3        0.0        0.0        0.0        0.0        0.0        0.0        0.0  \n",
       "4        0.0        0.0        0.0        0.0        0.0        0.0        0.0  \n",
       "\n",
       "[5 rows x 4295 columns]"
      ]
     },
     "execution_count": 4,
     "metadata": {},
     "output_type": "execute_result"
    }
   ],
   "source": [
    "# df_filtered = df.drop(columns=[col for col in df.columns if col.startswith(\"fcfc\") or col.startswith(\"ecfc\")])\n",
    "df_filtered = df.drop(columns=[\"class\", \"smiles\"])\n",
    "df_filtered.head()"
   ]
  },
  {
   "cell_type": "code",
   "execution_count": 5,
   "metadata": {},
   "outputs": [],
   "source": [
    "# Supposons que df_features contient les features et df_target la colonne cible\n",
    "X = df_filtered.copy()\n",
    "y = labels.copy()"
   ]
  },
  {
   "cell_type": "markdown",
   "metadata": {},
   "source": [
    "K-fold"
   ]
  },
  {
   "cell_type": "code",
   "execution_count": 6,
   "metadata": {},
   "outputs": [],
   "source": [
    "k = 5\n",
    "kf = KFold(n_splits=k, shuffle=True, random_state=42)"
   ]
  },
  {
   "cell_type": "markdown",
   "metadata": {},
   "source": [
    "# Model"
   ]
  },
  {
   "cell_type": "code",
   "execution_count": 7,
   "metadata": {},
   "outputs": [],
   "source": [
    "model = XGBClassifier(n_estimators=250, learning_rate=0.16787519093314812, max_depth=7, subsample=0.8413149403890899, colsample_bytree=0.9206075463459951, random_state=42, eval_metric=\"auc\")\n",
    "# model = RandomForestClassifier()"
   ]
  },
  {
   "cell_type": "code",
   "execution_count": 8,
   "metadata": {},
   "outputs": [],
   "source": [
    "scaler = StandardScaler()"
   ]
  },
  {
   "cell_type": "code",
   "execution_count": 9,
   "metadata": {},
   "outputs": [],
   "source": [
    "scores = []\n",
    "\n",
    "for train_index, test_index in kf.split(X):\n",
    "        # Spliting des données\n",
    "        X_train, X_test = X.iloc[train_index], X.iloc[test_index]\n",
    "        y_train, y_test = y.iloc[train_index], y.iloc[test_index]\n",
    "        \n",
    "        X_train = scaler.fit_transform(X_train)\n",
    "        X_test = scaler.transform(X_test)\n",
    "        \n",
    "        # **Entraînement du modèle**\n",
    "        model.fit(X_train, y_train)\n",
    "        \n",
    "        # **Prédictions et évaluation**\n",
    "        y_pred = model.predict(X_test)\n",
    "        scores.append(accuracy_score(y_test, y_pred))"
   ]
  },
  {
   "cell_type": "code",
   "execution_count": 10,
   "metadata": {},
   "outputs": [],
   "source": [
    "results = [{\"Modèle:\" : str(model), \"Score moyen:\" : np.mean(scores), \"Écart-type:\" : np.std(scores)}]\n",
    "df_results = pd.DataFrame(results)"
   ]
  },
  {
   "cell_type": "code",
   "execution_count": 11,
   "metadata": {},
   "outputs": [
    {
     "data": {
      "text/html": [
       "<div>\n",
       "<style scoped>\n",
       "    .dataframe tbody tr th:only-of-type {\n",
       "        vertical-align: middle;\n",
       "    }\n",
       "\n",
       "    .dataframe tbody tr th {\n",
       "        vertical-align: top;\n",
       "    }\n",
       "\n",
       "    .dataframe thead th {\n",
       "        text-align: right;\n",
       "    }\n",
       "</style>\n",
       "<table border=\"1\" class=\"dataframe\">\n",
       "  <thead>\n",
       "    <tr style=\"text-align: right;\">\n",
       "      <th></th>\n",
       "      <th>Modèle:</th>\n",
       "      <th>Score moyen:</th>\n",
       "      <th>Écart-type:</th>\n",
       "    </tr>\n",
       "  </thead>\n",
       "  <tbody>\n",
       "    <tr>\n",
       "      <th>0</th>\n",
       "      <td>XGBClassifier(base_score=None, booster=None, c...</td>\n",
       "      <td>0.823048</td>\n",
       "      <td>0.005153</td>\n",
       "    </tr>\n",
       "  </tbody>\n",
       "</table>\n",
       "</div>"
      ],
      "text/plain": [
       "                                             Modèle:  Score moyen:  \\\n",
       "0  XGBClassifier(base_score=None, booster=None, c...      0.823048   \n",
       "\n",
       "   Écart-type:  \n",
       "0     0.005153  "
      ]
     },
     "execution_count": 11,
     "metadata": {},
     "output_type": "execute_result"
    }
   ],
   "source": [
    "df_results"
   ]
  }
 ],
 "metadata": {
  "kernelspec": {
   "display_name": "Python 3",
   "language": "python",
   "name": "python3"
  },
  "language_info": {
   "codemirror_mode": {
    "name": "ipython",
    "version": 3
   },
   "file_extension": ".py",
   "mimetype": "text/x-python",
   "name": "python",
   "nbconvert_exporter": "python",
   "pygments_lexer": "ipython3",
   "version": "3.11.1"
  }
 },
 "nbformat": 4,
 "nbformat_minor": 2
}
